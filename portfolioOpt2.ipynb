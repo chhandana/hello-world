{
  "nbformat": 4,
  "nbformat_minor": 0,
  "metadata": {
    "colab": {
      "name": "portfolioOpt2.ipynb",
      "provenance": [],
      "include_colab_link": true
    },
    "kernelspec": {
      "name": "python2",
      "display_name": "Python 2"
    }
  },
  "cells": [
    {
      "cell_type": "markdown",
      "metadata": {
        "id": "view-in-github",
        "colab_type": "text"
      },
      "source": [
        "<a href=\"https://colab.research.google.com/github/chhandana/hello-world/blob/master/portfolioOpt2.ipynb\" target=\"_parent\"><img src=\"https://colab.research.google.com/assets/colab-badge.svg\" alt=\"Open In Colab\"/></a>"
      ]
    },
    {
      "cell_type": "code",
      "metadata": {
        "id": "Ietk-p7tgrGO",
        "colab_type": "code",
        "outputId": "30103179-bc92-4e8a-8635-e9d48eb7d922",
        "colab": {
          "base_uri": "https://localhost:8080/",
          "height": 374
        }
      },
      "source": [
        "#Import relevant libraries\n",
        "import pandas as pd\n",
        "import numpy as np\n",
        "import pandas_datareader.data as web\n",
        "import matplotlib.pyplot as plt#Fetch data from yahoo and save under DataFrame named 'data'\n",
        "stock = ['AAPL', 'FB', 'ROKU', 'BBY']\n",
        "data = web.DataReader(stock,data_source=\"yahoo\",start='12/01/2018',end='12/31/2018')['Adj Close']\n",
        "\n",
        "#Arrange the data in ascending order\n",
        "data=data.iloc[::-1]\n",
        "print data.round(2)\n",
        "\n",
        "\n"
      ],
      "execution_count": 0,
      "outputs": [
        {
          "output_type": "stream",
          "text": [
            "Symbols       AAPL    BBY      FB   ROKU\n",
            "Date                                    \n",
            "2018-12-31  155.41  51.80  131.09  30.64\n",
            "2018-12-28  153.92  50.22  133.20  30.16\n",
            "2018-12-27  153.84  50.82  134.52  30.46\n",
            "2018-12-26  154.84  50.44  134.18  30.35\n",
            "2018-12-24  144.66  47.18  124.06  27.17\n",
            "2018-12-21  148.50  47.79  124.95  27.28\n",
            "2018-12-20  154.51  49.31  133.40  29.66\n",
            "2018-12-19  158.51  49.84  133.24  30.61\n",
            "2018-12-18  163.61  50.83  143.66  31.34\n",
            "2018-12-17  161.51  51.09  140.19  32.12\n",
            "2018-12-14  163.03  54.16  144.06  33.42\n",
            "2018-12-13  168.42  54.71  145.01  33.74\n",
            "2018-12-12  166.60  57.69  144.50  35.17\n",
            "2018-12-11  166.13  56.82  142.08  35.81\n",
            "2018-12-10  167.09  57.38  141.85  37.20\n",
            "2018-12-07  166.00  58.81  137.42  37.92\n",
            "2018-12-06  172.13  60.46  139.63  40.82\n",
            "2018-12-04  174.07  60.44  137.93  39.78\n",
            "2018-12-03  182.08  65.04  141.09  42.17\n"
          ],
          "name": "stdout"
        }
      ]
    },
    {
      "cell_type": "code",
      "metadata": {
        "id": "MqRhbXQIg00-",
        "colab_type": "code",
        "outputId": "18423cdf-75e3-4648-8173-b2cc766e761f",
        "colab": {
          "base_uri": "https://localhost:8080/",
          "height": 374
        }
      },
      "source": [
        "#Compute stock returns and print the returns in percentage format\n",
        "stock_ret = data.pct_change()\n",
        "print (stock_ret.round(4)*100)"
      ],
      "execution_count": 0,
      "outputs": [
        {
          "output_type": "stream",
          "text": [
            "Symbols     AAPL   BBY    FB   ROKU\n",
            "Date                               \n",
            "2018-12-31   NaN   NaN   NaN    NaN\n",
            "2018-12-28 -0.96 -3.06  1.61  -1.57\n",
            "2018-12-27 -0.05  1.21  0.99   0.99\n",
            "2018-12-26  0.65 -0.75 -0.25  -0.36\n",
            "2018-12-24 -6.58 -6.46 -7.54 -10.48\n",
            "2018-12-21  2.66  1.29  0.72   0.40\n",
            "2018-12-20  4.05  3.17  6.76   8.72\n",
            "2018-12-19  2.59  1.09 -0.12   3.20\n",
            "2018-12-18  3.22  1.98  7.82   2.38\n",
            "2018-12-17 -1.28  0.50 -2.42   2.49\n",
            "2018-12-14  0.94  6.01  2.76   4.05\n",
            "2018-12-13  3.31  1.01  0.66   0.96\n",
            "2018-12-12 -1.08  5.45 -0.35   4.24\n",
            "2018-12-11 -0.28 -1.51 -1.67   1.82\n",
            "2018-12-10  0.58  0.98 -0.16   3.88\n",
            "2018-12-07 -0.65  2.51 -3.12   1.94\n",
            "2018-12-06  3.70  2.81  1.61   7.65\n",
            "2018-12-04  1.13 -0.03 -1.22  -2.55\n",
            "2018-12-03  4.60  7.60  2.29   6.01\n"
          ],
          "name": "stdout"
        }
      ]
    },
    {
      "cell_type": "code",
      "metadata": {
        "id": "9I3J2o_0hkR3",
        "colab_type": "code",
        "outputId": "c4ec5691-a2a4-494a-ab94-4e537b9ae2cf",
        "colab": {
          "base_uri": "https://localhost:8080/",
          "height": 221
        }
      },
      "source": [
        "#Calculate mean returns and covariances of all four the stocks\n",
        "mean_returns = stock_ret.mean()\n",
        "cov_matrix = stock_ret.cov()\n",
        "print (mean_returns)\n",
        "print (cov_matrix)"
      ],
      "execution_count": 0,
      "outputs": [
        {
          "output_type": "stream",
          "text": [
            "Symbols\n",
            "AAPL    0.009181\n",
            "BBY     0.013221\n",
            "FB      0.004645\n",
            "ROKU    0.018768\n",
            "dtype: float64\n",
            "Symbols      AAPL       BBY        FB      ROKU\n",
            "Symbols                                        \n",
            "AAPL     0.000715  0.000562  0.000707  0.000848\n",
            "BBY      0.000562  0.001063  0.000603  0.001108\n",
            "FB       0.000707  0.000603  0.001176  0.000960\n",
            "ROKU     0.000848  0.001108  0.000960  0.001805\n"
          ],
          "name": "stdout"
        }
      ]
    },
    {
      "cell_type": "code",
      "metadata": {
        "id": "yV50_yIdiD_6",
        "colab_type": "code",
        "colab": {}
      },
      "source": [
        "#Set the number of iterations to 10000 and define an array to hold the simulation results; initially set to all zeros\n",
        "num_iterations = 100000\n",
        "simulation_res = np.zeros((4+len(stock)-1,num_iterations))"
      ],
      "execution_count": 0,
      "outputs": []
    },
    {
      "cell_type": "code",
      "metadata": {
        "id": "uf_JhurXiOqT",
        "colab_type": "code",
        "outputId": "ab014259-ba87-47c9-e687-bfba8b50e095",
        "colab": {
          "base_uri": "https://localhost:8080/",
          "height": 221
        }
      },
      "source": [
        "for i in range(num_iterations):\n",
        "#Select random weights and normalize to set the sum to 1\n",
        "        weights = np.array(np.random.random(4))\n",
        "        weights /= np.sum(weights)\n",
        "#Calculate the return and standard deviation for every step\n",
        "        portfolio_return = np.sum(mean_returns * weights)\n",
        "        portfolio_std_dev = np.sqrt(np.dot(weights.T,np.dot(cov_matrix, weights)))\n",
        "\n",
        "#Store all the results in a defined array\n",
        "        simulation_res[0,i] = portfolio_return\n",
        "        simulation_res[1,i] = portfolio_std_dev\n",
        "\n",
        "#Calculate Sharpe ratio and store it in the array\n",
        "        simulation_res[2,i] = simulation_res[0,i] / simulation_res[1,i]\n",
        "\n",
        "#Save the weights in the array\n",
        "        for j in range(len(weights)):\n",
        "                simulation_res[j+3,i] = weights[j]\n",
        "\n",
        "sim_frame = pd.DataFrame(simulation_res.T,columns=['ret','stdev','sharpe',stock[0],stock[1],stock[2],stock[3]])\n",
        "print sim_frame.head (5)\n",
        "print sim_frame.tail (5)\n",
        "\n",
        "\n",
        "\n",
        "\n",
        "\n"
      ],
      "execution_count": 0,
      "outputs": [
        {
          "output_type": "stream",
          "text": [
            "        ret     stdev    sharpe      AAPL        FB      ROKU       BBY\n",
            "0  0.010127  0.027701  0.365571  0.249397  0.491417  0.249552  0.009634\n",
            "1  0.010039  0.028256  0.355287  0.357213  0.233873  0.283734  0.125180\n",
            "2  0.011004  0.028795  0.382143  0.146434  0.618739  0.207349  0.027478\n",
            "3  0.009945  0.028810  0.345184  0.404176  0.120487  0.303069  0.172268\n",
            "4  0.012779  0.032061  0.398581  0.168694  0.210219  0.226994  0.394093\n",
            "            ret     stdev    sharpe      AAPL        FB      ROKU       BBY\n",
            "99995  0.011099  0.027507  0.403511  0.632640  0.190746  0.038647  0.137967\n",
            "99996  0.010331  0.030437  0.339418  0.233727  0.125151  0.389604  0.251517\n",
            "99997  0.014700  0.033453  0.439427  0.094133  0.433502  0.053895  0.418471\n",
            "99998  0.010146  0.028121  0.360817  0.210150  0.466454  0.284614  0.038781\n",
            "99999  0.013298  0.034904  0.380981  0.030233  0.093587  0.330051  0.546129\n"
          ],
          "name": "stdout"
        }
      ]
    },
    {
      "cell_type": "code",
      "metadata": {
        "id": "XuoEgzwZjWSy",
        "colab_type": "code",
        "outputId": "b96faba7-fadf-499d-dc15-99ace1427ede",
        "colab": {
          "base_uri": "https://localhost:8080/",
          "height": 323
        }
      },
      "source": [
        "#Spot the position of the portfolio with highest Sharpe Ratio\n",
        "max_sharpe = sim_frame.iloc[sim_frame['sharpe'].idxmax()]\n",
        "\n",
        "#Spot the position of the portfolio with minimum Standard Deviation\n",
        "min_std = sim_frame.iloc[sim_frame['stdev'].idxmin()]\n",
        "print \"The portfolio for max Sharpe Ratio:\\n\", max_sharpe\n",
        "print \"The portfolio for min risk:\\n\", min_std\n",
        "\n"
      ],
      "execution_count": 0,
      "outputs": [
        {
          "output_type": "stream",
          "text": [
            "The portfolio for max Sharpe Ratio:\n",
            "ret       0.016330\n",
            "stdev     0.036267\n",
            "sharpe    0.450291\n",
            "AAPL      0.050572\n",
            "FB        0.351711\n",
            "ROKU      0.000137\n",
            "BBY       0.597580\n",
            "Name: 93127, dtype: float64\n",
            "The portfolio for min risk:\n",
            "ret       0.010224\n",
            "stdev     0.026092\n",
            "sharpe    0.391828\n",
            "AAPL      0.736797\n",
            "FB        0.256498\n",
            "ROKU      0.004130\n",
            "BBY       0.002575\n",
            "Name: 5075, dtype: float64\n"
          ],
          "name": "stdout"
        }
      ]
    },
    {
      "cell_type": "code",
      "metadata": {
        "id": "Bqxk7NhbjsOS",
        "colab_type": "code",
        "outputId": "04523f43-1081-4332-882d-47ab711922cf",
        "colab": {
          "base_uri": "https://localhost:8080/",
          "height": 283
        }
      },
      "source": [
        "#Create a scatter plot coloured by various Sharpe Ratios with standard deviation on the x-axis and returns on the y-axis\n",
        "plt.scatter(sim_frame.stdev,sim_frame.ret,c=sim_frame.sharpe,cmap='RdYlBu')\n",
        "plt.xlabel('Standard Deviation')\n",
        "plt.ylabel('Returns')\n",
        "#plt.ylim(-0.003,.001)\n",
        "#plt.xlim(0.0075,0.0125)\n",
        "#Plot a red star to highlight position of the portfolio with highest Sharpe Ratio\n",
        "plt.scatter(max_sharpe[1],max_sharpe[0],marker=(5,1,0),color='r',s=600)\n",
        "#Plot a blue star to highlight position of the portfolio with minimum Variance\n",
        "plt.scatter(min_std[1],min_std[0],marker=(5,1,0),color='b',s=600)\n",
        "plt.show()"
      ],
      "execution_count": 0,
      "outputs": [
        {
          "output_type": "display_data",
          "data": {
            "image/png": "[encoded data removed]",
            "text/plain": [
              "<Figure size 432x288 with 1 Axes>"
            ]
          },
          "metadata": {
            "tags": []
          }
        }
      ]
    }
  ]
}